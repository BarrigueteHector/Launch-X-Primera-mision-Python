{
 "cells": [
  {
   "cell_type": "markdown",
   "metadata": {},
   "source": [
    "# KATA 7"
   ]
  },
  {
   "cell_type": "markdown",
   "metadata": {},
   "source": [
    "### EJERCICIO 1 & 2"
   ]
  },
  {
   "cell_type": "code",
   "execution_count": 1,
   "metadata": {},
   "outputs": [
    {
     "name": "stdout",
     "output_type": "stream",
     "text": [
      "Planets: ['earth', 'mars', 'krypton', 'jupyter', 'venus', 'x']\n",
      "Planets with for:\n",
      "earth\n",
      "mars\n",
      "krypton\n",
      "jupyter\n",
      "venus\n",
      "x\n"
     ]
    }
   ],
   "source": [
    "#EJERCICIO 1\n",
    "new_planet = \"\"\n",
    "planets = []\n",
    "\n",
    "new_planet = input(\"Enter a planet: \")\n",
    "\n",
    "while new_planet.lower() != \"done\":\n",
    "    if new_planet:\n",
    "        planets.append(new_planet)\n",
    "    new_planet = input(\"Enter a planet or 'done' to exit: \")\n",
    "\n",
    "print(\"Planets: %s\" %(planets))\n",
    "\n",
    "#EJERCICIO 2\n",
    "print(\"Planets with for:\")\n",
    "for planet in planets:\n",
    "    print(planet)"
   ]
  }
 ],
 "metadata": {
  "interpreter": {
   "hash": "e920ef2798bceeba7f4d7acbf05796940f4b41829b7cd73d658704a17f9a1955"
  },
  "kernelspec": {
   "display_name": "Python 3.10.0 64-bit",
   "language": "python",
   "name": "python3"
  },
  "language_info": {
   "codemirror_mode": {
    "name": "ipython",
    "version": 3
   },
   "file_extension": ".py",
   "mimetype": "text/x-python",
   "name": "python",
   "nbconvert_exporter": "python",
   "pygments_lexer": "ipython3",
   "version": "3.10.0"
  },
  "orig_nbformat": 4
 },
 "nbformat": 4,
 "nbformat_minor": 2
}
