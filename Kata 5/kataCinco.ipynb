{
 "cells": [
  {
   "cell_type": "markdown",
   "metadata": {},
   "source": [
    "# KATA 5: ENTREGA"
   ]
  },
  {
   "cell_type": "markdown",
   "metadata": {},
   "source": [
    "## EJERCICIO 1"
   ]
  },
  {
   "cell_type": "code",
   "execution_count": 2,
   "metadata": {},
   "outputs": [
    {
     "name": "stdout",
     "output_type": "stream",
     "text": [
      "La distancia entre Tierra y Júpiter es de: 628949330 km\n",
      "La distancia entre Tierra y Júpiter es de: 390577533.93 millas\n"
     ]
    }
   ],
   "source": [
    "tierra = 149597870 #km\n",
    "jupiter = 778547200 #km\n",
    "\n",
    "distancia =  jupiter - tierra\n",
    "distanciaMillas= distancia * 0.621\n",
    "print(\"La distancia entre Tierra y Júpiter es de: %s km\" % distancia)\n",
    "print(\"La distancia entre Tierra y Júpiter es de: %s millas\" % distanciaMillas)"
   ]
  },
  {
   "cell_type": "markdown",
   "metadata": {},
   "source": [
    "## EJERCICIO 2"
   ]
  },
  {
   "cell_type": "code",
   "execution_count": null,
   "metadata": {},
   "outputs": [],
   "source": [
    "distanciaUser = float(input(\"Ingrese la distancia del planeta 1 en km: \"))\n",
    "distanciaUser2 = float(input(\"Ingrese la distancia del planeta 2 en km: \"))\n",
    "\n",
    "distanciaPlanetas = abs(int(distanciaUser2 - distanciaUser))\n",
    "\n",
    "distanciaMillas = distanciaPlanetas * 0.621\n",
    "\n",
    "print(\"La distancia entre los planetas es de: %s km\" % distanciaPlanetas)\n",
    "print(\"La distancia entre los planetas es de: %s millas\" % distanciaMillas)"
   ]
  }
 ],
 "metadata": {
  "interpreter": {
   "hash": "e920ef2798bceeba7f4d7acbf05796940f4b41829b7cd73d658704a17f9a1955"
  },
  "kernelspec": {
   "display_name": "Python 3.10.0 64-bit",
   "language": "python",
   "name": "python3"
  },
  "language_info": {
   "codemirror_mode": {
    "name": "ipython",
    "version": 3
   },
   "file_extension": ".py",
   "mimetype": "text/x-python",
   "name": "python",
   "nbconvert_exporter": "python",
   "pygments_lexer": "ipython3",
   "version": "3.10.0"
  },
  "orig_nbformat": 4
 },
 "nbformat": 4,
 "nbformat_minor": 2
}
