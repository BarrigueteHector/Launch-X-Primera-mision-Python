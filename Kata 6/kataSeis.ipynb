{
 "cells": [
  {
   "cell_type": "markdown",
   "metadata": {},
   "source": [
    "# KATA 6: EJERCICIOS"
   ]
  },
  {
   "cell_type": "markdown",
   "metadata": {},
   "source": [
    "## EJERCICIO 1"
   ]
  },
  {
   "cell_type": "code",
   "execution_count": 3,
   "metadata": {},
   "outputs": [
    {
     "name": "stdout",
     "output_type": "stream",
     "text": [
      "The number of plants in list: 8\n",
      "The number of planets in list: 9\n"
     ]
    }
   ],
   "source": [
    "planets = [\"Mercury\", \"Venus\", \"Earth\", \"Mars\", \"Jupiter\", \"Saturn\", \"Uranus\", \"Neptune\"]\n",
    "\n",
    "number_of_planets = len(planets)\n",
    "print(\"The number of plants in list: %s\" %(number_of_planets))\n",
    "\n",
    "planets.append(\"Pluto\")\n",
    "print(\"The number of planets in list: %d\" %(len(planets))) #Otra forma de hacerlo"
   ]
  },
  {
   "cell_type": "markdown",
   "metadata": {},
   "source": [
    "## EJERCICIO 2"
   ]
  },
  {
   "cell_type": "code",
   "execution_count": null,
   "metadata": {},
   "outputs": [],
   "source": [
    "planets = ['Mercury', 'Venus', 'Earth', 'Mars', 'Jupiter', 'Saturn', 'Neptune']\n",
    "\n",
    "input_planet = input(\"Add a planet to the list: \")\n",
    "print(\"Possition of %s: %d\" %(input_planet, planets.index(input_planet)))\n",
    "\n",
    "planets_before_earth = planets[:planets.index(input_planet)]\n",
    "print(\"Planets before %s: %s\" %(input_planet, planets_before_earth))\n",
    "\n",
    "planets_after_earth = planets[planets.index(input_planet)+1:]\n",
    "print(\"Planets after %s: %s\" %(input_planet, planets_after_earth))"
   ]
  }
 ],
 "metadata": {
  "interpreter": {
   "hash": "e920ef2798bceeba7f4d7acbf05796940f4b41829b7cd73d658704a17f9a1955"
  },
  "kernelspec": {
   "display_name": "Python 3.10.0 64-bit",
   "language": "python",
   "name": "python3"
  },
  "language_info": {
   "codemirror_mode": {
    "name": "ipython",
    "version": 3
   },
   "file_extension": ".py",
   "mimetype": "text/x-python",
   "name": "python",
   "nbconvert_exporter": "python",
   "pygments_lexer": "ipython3",
   "version": "3.10.0"
  },
  "orig_nbformat": 4
 },
 "nbformat": 4,
 "nbformat_minor": 2
}
