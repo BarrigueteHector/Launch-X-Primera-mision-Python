{
 "cells": [
  {
   "cell_type": "markdown",
   "metadata": {},
   "source": [
    "# KATA 9"
   ]
  },
  {
   "cell_type": "markdown",
   "metadata": {},
   "source": [
    "### EJERCICIO 1"
   ]
  },
  {
   "cell_type": "code",
   "execution_count": 11,
   "metadata": {},
   "outputs": [
    {
     "name": "stdout",
     "output_type": "stream",
     "text": [
      "-----REPORTE-----\n",
      "Tanque 1: 10\n",
      "Tanque 2: 20\n",
      "Tanque 3: 30\n",
      "El promedio de los tanques es: 20\n",
      "Fuel Report\n",
      "    Total Average: 218.33333333333334\n",
      "    \n"
     ]
    }
   ],
   "source": [
    "def promedio_tanques(tanque1, tanque2, tanque3):\n",
    "    promedio_tanques = (tanque1 + tanque2 + tanque3) / 3\n",
    "    return promedio_tanques\n",
    "\n",
    "def reporte(tanque1, tanque2, tanque3):\n",
    "    return (\"-----REPORTE-----\\nTanque 1: %d\\nTanque 2: %d\\nTanque 3: %d\\nEl promedio de los tanques es: %d\" %(tanque1, tanque2, tanque3, promedio_tanques(tanque1, tanque2, tanque3)))\n",
    "\n",
    "print(reporte(10, 20, 30))\n",
    "\n",
    "#VERSION FER: El calculo del promedio de tanques está hecho para cualquier cantidad de tanques\n",
    "def average(values):\n",
    "    total = sum(values) #Suma de todos los valores\n",
    "    number_items = len(values) #Cantidad de valores\n",
    "    return total / number_items\n",
    "\n",
    "def generate_report(values): #El reporte ahora permite cualquier cantidad de tanques, pero solo imprime el promedio\n",
    "    return f\"\"\"Fuel Report\n",
    "    Total Average: {average(values)}\n",
    "    \"\"\"\n",
    "\n",
    "print(generate_report([120, 140, 50, 300, 500, 200]))\n",
    "\n",
    "\n",
    "#ORIGINAL FER:\n",
    "# Función promedio \n",
    "# def average(values):\n",
    "#     total = sum(values)\n",
    "#     number_of_items = len(values)\n",
    "#     return total / number_of_items\n",
    "\n",
    "# # Test the averaging function with a list of integers:\n",
    "# average([80, 85, 81]) \n",
    "# # Actualiza la función\n",
    "# def generate_report(main_tank, external_tank, hydrogen_tank):\n",
    "#     return f\"\"\"Fuel Report:\n",
    "#     Total Average: {average([main_tank, external_tank, hydrogen_tank])}%\n",
    "#     Main tank: {main_tank}%\n",
    "#     External tank: {external_tank}%\n",
    "#     Hydrogen tank: {hydrogen_tank}% \n",
    "#     \"\"\"\n",
    "\n",
    "# # Call the updated function again with different values\n",
    "# print(generate_report(88, 76, 70))"
   ]
  },
  {
   "cell_type": "markdown",
   "metadata": {},
   "source": [
    "### EJERCICIO 2"
   ]
  },
  {
   "cell_type": "code",
   "execution_count": 38,
   "metadata": {},
   "outputs": [
    {
     "name": "stdout",
     "output_type": "stream",
     "text": [
      "----- INFORME MISION -----\n",
      "Hora prelanzamiento: 60\n",
      "Tiempo total (contando prelanzamiento): 180\n",
      "Destino: Mars\n",
      "Total Tanque: 390\n",
      "\n",
      "----- INFORME MISION 2 -----\n",
      "Destino: Jupiter\n",
      "Tiempo total (contando prelanzamiento): 280\n",
      "Total tanques: 1400\n",
      "\n",
      "----- INFORME MISION 3 -----\n",
      "Destino: Jupiter\n",
      "Tiempo total (contando prelanzamiento): 280\n",
      "Total tanques: 2400\n",
      "tanque_externo: 200\n",
      "tanque_interno: 500\n",
      "tanque_interno2: 1000\n",
      "tanque_externo2: 300\n",
      "tanque_externo3: 400\n"
     ]
    }
   ],
   "source": [
    "#PARTE 1\n",
    "def infome_mision(hora_prelanzamiento, tiempo_vuelo, destino, tanque_externo, tanque_interno):\n",
    "    return \"----- INFORME MISION -----\\nHora prelanzamiento: %d\\nTiempo total (contando prelanzamiento): %d\\nDestino: %s\\nTotal Tanque: %d\" %(hora_prelanzamiento, hora_prelanzamiento+tiempo_vuelo, destino, tanque_externo+tanque_interno)\n",
    "print(infome_mision(60, 120, \"Mars\", 100, 290))\n",
    "\n",
    "#PARTE 2\n",
    "def informe_mision2(destino, *tiempo, **tanques):\n",
    "    print(\"\\n----- INFORME MISION 2 -----\\nDestino: %s\\nTiempo total (contando prelanzamiento): %d\\nTotal tanques: %d\" %(destino, sum(tiempo), sum(tanques.values())))\n",
    "\n",
    "informe_mision2(\"Jupiter\", 90, 190, tanque_interno=500, tanque_externo=200, tanque_externo2=300, tanque_externo3=400)\n",
    "\n",
    "#PARTE 3\n",
    "def inform_mision3(destino, *tiempo, **tanques):\n",
    "    print(\"\\n----- INFORME MISION 3 -----\\nDestino: %s\\nTiempo total (contando prelanzamiento): %d\\nTotal tanques: %d\" %(destino, sum(tiempo), sum(tanques.values())))\n",
    "    for tanque, capacidad in tanques.items():\n",
    "        print(\"%s: %d\" %(tanque, capacidad))\n",
    "\n",
    "inform_mision3(\"Jupiter\", 90, 190,  tanque_interno=500, tanque_interno2=1000, tanque_externo=200, tanque_externo2=300, tanque_externo3=400)"
   ]
  }
 ],
 "metadata": {
  "interpreter": {
   "hash": "e920ef2798bceeba7f4d7acbf05796940f4b41829b7cd73d658704a17f9a1955"
  },
  "kernelspec": {
   "display_name": "Python 3.10.0 64-bit",
   "language": "python",
   "name": "python3"
  },
  "language_info": {
   "codemirror_mode": {
    "name": "ipython",
    "version": 3
   },
   "file_extension": ".py",
   "mimetype": "text/x-python",
   "name": "python",
   "nbconvert_exporter": "python",
   "pygments_lexer": "ipython3",
   "version": "3.10.0"
  },
  "orig_nbformat": 4
 },
 "nbformat": 4,
 "nbformat_minor": 2
}
